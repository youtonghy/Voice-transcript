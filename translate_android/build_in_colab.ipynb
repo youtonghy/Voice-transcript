# Google Colab 构建脚本
# 在 https://colab.research.google.com/ 中运行

!apt-get update -y
!apt-get install -y python3-pip openjdk-8-jdk build-essential     libffi-dev libssl-dev libsqlite3-dev pkg-config libjpeg-dev

!pip install buildozer cython kivy numpy

# 克隆项目
!git clone https://github.com/yourusername/voice-transcriber-android.git
%cd voice-transcriber-android

# 构建 APK
!buildozer android debug

# 下载 APK
from google.colab import files
import glob

apk_files = glob.glob('bin/*.apk')
if apk_files:
    files.download(apk_files[0])
    print("✅ APK 已下载！")
else:
    print("❌ APK 构建失败")
